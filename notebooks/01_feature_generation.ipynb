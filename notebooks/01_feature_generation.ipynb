{
 "cells": [
  {
   "cell_type": "markdown",
   "metadata": {},
   "source": [
    "# Feature generation"
   ]
  },
  {
   "cell_type": "code",
   "execution_count": 1,
   "metadata": {},
   "outputs": [],
   "source": [
    "%load_ext autoreload\n",
    "%autoreload 2"
   ]
  },
  {
   "cell_type": "code",
   "execution_count": 2,
   "metadata": {
    "tags": [
     "outputPrepend"
    ]
   },
   "outputs": [
    {
     "name": "stdout",
     "output_type": "stream",
     "text": [
      "                              [ 24%]\n",
      "algorithms/shortest_paths/tests/test_dense_numpy.py ......                                                           [ 24%]\n",
      "algorithms/shortest_paths/tests/test_generic.py ......................                                               [ 25%]\n",
      "algorithms/shortest_paths/tests/test_unweighted.py ............                                                      [ 25%]\n",
      "algorithms/shortest_paths/tests/test_weighted.py .........................................                           [ 26%]\n",
      "algorithms/tests/test_asteroidal.py .                                                                                [ 26%]\n",
      "algorithms/tests/test_boundary.py .............                                                                      [ 26%]\n",
      "algorithms/tests/test_bridges.py .....                                                                               [ 26%]\n",
      "algorithms/tests/test_chains.py ....                                                                                 [ 27%]\n",
      "algorithms/tests/test_chordal.py ......                                                                              [ 27%]\n",
      "algorithms/tests/test_clique.py .............                                                                        [ 27%]\n",
      "algorithms/tests/test_cluster.py ....................................                                                [ 28%]\n",
      "algorithms/tests/test_communicability.py ..                                                                          [ 28%]\n",
      "algorithms/tests/test_core.py ..............                                                                         [ 28%]\n",
      "algorithms/tests/test_covering.py ........                                                                           [ 29%]\n",
      "algorithms/tests/test_cuts.py ................                                                                       [ 29%]\n",
      "algorithms/tests/test_cycles.py ..................................                                                   [ 30%]\n",
      "algorithms/tests/test_d_separation.py .............                                                                  [ 30%]\n",
      "algorithms/tests/test_dag.py .................................................                                       [ 31%]\n",
      "algorithms/tests/test_distance_measures.py ..............................                                            [ 32%]\n",
      "algorithms/tests/test_distance_regular.py .......                                                                    [ 32%]\n",
      "algorithms/tests/test_dominance.py ......................                                                            [ 33%]\n",
      "algorithms/tests/test_dominating.py .....                                                                            [ 33%]\n",
      "algorithms/tests/test_efficiency.py .......                                                                          [ 33%]\n",
      "algorithms/tests/test_euler.py ...................                                                                   [ 34%]\n",
      "algorithms/tests/test_graph_hashing.py ...                                                                           [ 34%]\n",
      "algorithms/tests/test_graphical.py .............                                                                     [ 34%]\n",
      "algorithms/tests/test_hierarchy.py .....                                                                             [ 34%]\n",
      "algorithms/tests/test_hybrid.py ..                                                                                   [ 34%]\n",
      "algorithms/tests/test_isolate.py ...                                                                                 [ 34%]\n",
      "algorithms/tests/test_link_prediction.py ................................................................            [ 36%]\n",
      "algorithms/tests/test_lowest_common_ancestors.py ..........................                                          [ 36%]\n",
      "algorithms/tests/test_matching.py .......................................                                            [ 37%]\n",
      "algorithms/tests/test_max_weight_clique.py .....                                                                     [ 38%]\n",
      "algorithms/tests/test_minors.py ..........................                                                           [ 38%]\n",
      "algorithms/tests/test_mis.py ........                                                                                [ 38%]\n",
      "algorithms/tests/test_moral.py .                                                                                     [ 38%]\n",
      "algorithms/tests/test_non_randomness.py .                                                                            [ 38%]\n",
      "algorithms/tests/test_planar_drawing.py ............                                                                 [ 39%]\n",
      "algorithms/tests/test_planarity.py ..............................                                                    [ 39%]\n",
      "algorithms/tests/test_reciprocity.py .....                                                                           [ 40%]\n",
      "algorithms/tests/test_regular.py ............                                                                        [ 40%]\n",
      "algorithms/tests/test_richclub.py ........                                                                           [ 40%]\n",
      "algorithms/tests/test_similarity.py ................................                                                 [ 41%]\n",
      "algorithms/tests/test_simple_paths.py .........................................................................      [ 43%]\n",
      "algorithms/tests/test_smallworld.py ....                                                                             [ 43%]\n",
      "algorithms/tests/test_smetric.py ..                                                                                  [ 43%]\n",
      "algorithms/tests/test_sparsifiers.py .......                                                                         [ 43%]\n",
      "algorithms/tests/test_structuralholes.py ............                                                                [ 43%]\n",
      "algorithms/tests/test_swap.py ........                                                                               [ 43%]\n",
      "algorithms/tests/test_threshold.py .................                                                                 [ 44%]\n",
      "algorithms/tests/test_tournament.py .............                                                                    [ 44%]\n",
      "algorithms/tests/test_triads.py .......                                                                              [ 44%]\n",
      "algorithms/tests/test_vitality.py ......                                                                             [ 45%]\n",
      "algorithms/tests/test_voronoi.py ..........                                                                          [ 45%]\n",
      "algorithms/tests/test_wiener.py ....                                                                                 [ 45%]\n",
      "algorithms/traversal/tests/test_beamsearch.py ..                                                                     [ 45%]\n",
      "algorithms/traversal/tests/test_bfs.py ...........                                                                   [ 45%]\n",
      "algorithms/traversal/tests/test_dfs.py .................                                                             [ 46%]\n",
      "algorithms/traversal/tests/test_edgebfs.py ................                                                          [ 46%]\n",
      "algorithms/traversal/tests/test_edgedfs.py ...............                                                           [ 46%]\n",
      "algorithms/tree/tests/test_branchings.py .......................                                                     [ 47%]\n",
      "algorithms/tree/tests/test_coding.py ..............                                                                  [ 47%]\n",
      "algorithms/tree/tests/test_decomposition.py .....                                                                    [ 47%]\n",
      "algorithms/tree/tests/test_mst.py ............................................                                       [ 49%]\n",
      "algorithms/tree/tests/test_operations.py ...                                                                         [ 49%]\n",
      "algorithms/tree/tests/test_recognition.py .........................                                                  [ 49%]\n",
      "classes/tests/test_coreviews.py ........................................................                             [ 51%]\n",
      "classes/tests/test_digraph.py ..........................................................................             [ 52%]\n",
      "classes/tests/test_digraph_historical.py ..........................................                                  [ 53%]\n",
      "classes/tests/test_filters.py ...........                                                                            [ 54%]\n",
      "classes/tests/test_function.py ..........................................                                            [ 55%]\n",
      "classes/tests/test_graph.py ........................................................                                 [ 56%]\n",
      "classes/tests/test_graph_historical.py ..................................                                            [ 57%]\n",
      "classes/tests/test_graphviews.py ..................................                                                  [ 58%]\n",
      "classes/tests/test_multidigraph.py ...........................................................................       [ 60%]\n",
      "classes/tests/test_multigraph.py ...........................................................                         [ 61%]\n",
      "classes/tests/test_ordered.py .....                                                                                  [ 61%]\n",
      "classes/tests/test_reportviews.py .................................................................................. [ 63%]\n",
      ".................................................................................................................... [ 66%]\n",
      ".........................                                                                                            [ 67%]\n",
      "classes/tests/test_special.py ...................................................................................... [ 69%]\n",
      ".................................................................................................................... [ 72%]\n",
      ".................................................................................................................... [ 75%]\n",
      ".................................................................................................................... [ 78%]\n",
      "................................................................................                                     [ 80%]\n",
      "classes/tests/test_subgraphviews.py ................................                                                 [ 80%]\n",
      "drawing/tests/test_layout.py ........................                                                                [ 81%]\n",
      "drawing/tests/test_pylab.py .............                                                                            [ 81%]\n",
      "generators/tests/test_atlas.py ........                                                                              [ 81%]\n",
      "generators/tests/test_classic.py ..............................                                                      [ 82%]\n",
      "generators/tests/test_cographs.py .                                                                                  [ 82%]\n",
      "generators/tests/test_community.py ................                                                                  [ 83%]\n",
      "generators/tests/test_degree_seq.py ...................                                                              [ 83%]\n",
      "generators/tests/test_directed.py ........                                                                           [ 83%]\n",
      "generators/tests/test_duplication.py .......                                                                         [ 83%]\n",
      "generators/tests/test_ego.py ..                                                                                      [ 84%]\n",
      "generators/tests/test_expanders.py ....                                                                              [ 84%]\n",
      "generators/tests/test_geometric.py .......................                                                           [ 84%]\n",
      "generators/tests/test_harary_graph.py ..                                                                             [ 84%]\n",
      "generators/tests/test_internet_as_graphs.py .....                                                                    [ 84%]\n",
      "generators/tests/test_intersection.py ....                                                                           [ 84%]\n",
      "generators/tests/test_interval_graph.py ........                                                                     [ 85%]\n",
      "generators/tests/test_joint_degree_seq.py ....                                                                       [ 85%]\n",
      "generators/tests/test_lattice.py ......................                                                              [ 85%]\n",
      "generators/tests/test_line.py ............................                                                           [ 86%]\n",
      "generators/tests/test_mycielski.py ...                                                                               [ 86%]\n",
      "generators/tests/test_nonisomorphic_trees.py .....                                                                   [ 86%]\n",
      "generators/tests/test_random_clustered.py ....                                                                       [ 86%]\n",
      "generators/tests/test_random_graphs.py ........                                                                      [ 86%]\n",
      "generators/tests/test_small.py ...                                                                                   [ 87%]\n",
      "generators/tests/test_spectral_graph_forge.py .                                                                      [ 87%]\n",
      "generators/tests/test_stochastic.py ......                                                                           [ 87%]\n",
      "generators/tests/test_sudoku.py ......                                                                               [ 87%]\n",
      "generators/tests/test_trees.py ..                                                                                    [ 87%]\n",
      "generators/tests/test_triads.py ..                                                                                   [ 87%]\n",
      "linalg/tests/test_algebraic_connectivity.py ........................................................................ [ 89%]\n",
      "...........                                                                                                          [ 89%]\n",
      "linalg/tests/test_attrmatrix.py .....                                                                                [ 89%]\n",
      "linalg/tests/test_bethehessian.py .                                                                                  [ 89%]\n",
      "linalg/tests/test_graphmatrix.py ....                                                                                [ 89%]\n",
      "linalg/tests/test_laplacian.py ....                                                                                  [ 89%]\n",
      "linalg/tests/test_modularity.py ...                                                                                  [ 89%]\n",
      "linalg/tests/test_spectrum.py .....                                                                                  [ 90%]\n",
      "readwrite/json_graph/tests/test_adjacency.py ......                                                                  [ 90%]\n",
      "readwrite/json_graph/tests/test_cytoscape.py ......                                                                  [ 90%]\n",
      "readwrite/json_graph/tests/test_jit.py .....                                                                         [ 90%]\n",
      "readwrite/json_graph/tests/test_node_link.py .........                                                               [ 90%]\n",
      "readwrite/json_graph/tests/test_tree.py ...                                                                          [ 90%]\n",
      "readwrite/tests/test_adjlist.py ..................                                                                   [ 91%]\n",
      "readwrite/tests/test_edgelist.py ..................                                                                  [ 91%]\n",
      "readwrite/tests/test_gexf.py .....................                                                                   [ 92%]\n",
      "readwrite/tests/test_gml.py ....................                                                                     [ 92%]\n",
      "readwrite/tests/test_gpickle.py ..                                                                                   [ 92%]\n",
      "readwrite/tests/test_graph6.py ...............                                                                       [ 93%]\n",
      "readwrite/tests/test_graphml.py ................ssssssssssssssssssssssssssss                                         [ 94%]\n",
      "readwrite/tests/test_leda.py ..                                                                                      [ 94%]\n",
      "readwrite/tests/test_p2g.py ...                                                                                      [ 94%]\n",
      "readwrite/tests/test_pajek.py ........                                                                               [ 94%]\n",
      "readwrite/tests/test_sparse6.py ................                                                                     [ 94%]\n",
      "testing/tests/test_utils.py .....................                                                                    [ 95%]\n",
      "tests/test_all_random_functions.py s                                                                                 [ 95%]\n",
      "tests/test_convert.py ..........                                                                                     [ 95%]\n",
      "tests/test_convert_numpy.py ...................................                                                      [ 96%]\n",
      "tests/test_convert_pandas.py ..................                                                                      [ 97%]\n",
      "tests/test_convert_scipy.py .................                                                                        [ 97%]\n",
      "tests/test_exceptions.py .......                                                                                     [ 97%]\n",
      "tests/test_relabel.py ......................                                                                         [ 98%]\n",
      "utils/tests/test_contextmanager.py .                                                                                 [ 98%]\n",
      "utils/tests/test_decorators.py .........................                                                             [ 98%]\n",
      "utils/tests/test_heaps.py ..                                                                                         [ 98%]\n",
      "utils/tests/test_mapped_queue.py ..................                                                                  [ 99%]\n",
      "utils/tests/test_misc.py ..................                                                                          [ 99%]\n",
      "utils/tests/test_random_sequence.py ....                                                                             [ 99%]\n",
      "utils/tests/test_rcm.py ..                                                                                           [ 99%]\n",
      "utils/tests/test_unionfind.py ....                                                                                   [100%]\n",
      "\n",
      "===================================================== warnings summary =====================================================\n",
      "../../Library/Caches/pypoetry/virtualenvs/lynks--zmC8nkK-py3.7/lib/python3.7/site-packages/pandas/compat/__init__.py:120\n",
      "  /Users/thompijnenburg/Library/Caches/pypoetry/virtualenvs/lynks--zmC8nkK-py3.7/lib/python3.7/site-packages/pandas/compat/__init__.py:120: UserWarning: Could not import the lzma module. Your installed Python is incomplete. Attempting to use lzma compression will result in a RuntimeError.\n",
      "    warnings.warn(msg)\n",
      "\n",
      "-- Docs: https://docs.pytest.org/en/stable/warnings.html\n",
      "================================= 4002 passed, 41 skipped, 1 warning in 149.26s (0:02:29) ==================================\n"
     ]
    },
    {
     "data": {
      "text/plain": [
       "True"
      ]
     },
     "execution_count": 2,
     "metadata": {},
     "output_type": "execute_result"
    }
   ],
   "source": [
    "import networkx as nx\n",
    "nx.test()"
   ]
  },
  {
   "cell_type": "code",
   "execution_count": 3,
   "metadata": {},
   "outputs": [],
   "source": [
    "from pathlib import Path\n",
    "import numpy as np\n",
    "import pandas as pd"
   ]
  },
  {
   "cell_type": "markdown",
   "metadata": {},
   "source": [
    "Load parameter settings"
   ]
  },
  {
   "cell_type": "code",
   "execution_count": 4,
   "metadata": {},
   "outputs": [],
   "source": [
    "from lynks.helpers import load_config"
   ]
  },
  {
   "cell_type": "code",
   "execution_count": 9,
   "metadata": {},
   "outputs": [],
   "source": [
    "experiment_config_dir = Path(\"../configs\")\n",
    "\n",
    "feat_gen_config_path = experiment_config_dir.joinpath(\"experiments.toml\")"
   ]
  },
  {
   "cell_type": "code",
   "execution_count": 10,
   "metadata": {},
   "outputs": [],
   "source": [
    "configuration = load_config(feat_gen_config_path)"
   ]
  },
  {
   "cell_type": "code",
   "execution_count": 11,
   "metadata": {},
   "outputs": [
    {
     "data": {
      "text/plain": [
       "{'dataset_name': 'ogbl-collab',\n",
       " 'preprocessing': {'n_samples': 100, 'sampling_fn': 'random'},\n",
       " 'features': {'common_neighbors_count': False,\n",
       "  'common_neighbor_centrality': False,\n",
       "  'jaccard_coefficient': True,\n",
       "  'adamic_adar_index': True,\n",
       "  'preferential_attachment': True,\n",
       "  'resource_allocation_index': True,\n",
       "  'scaling': 'normalise'}}"
      ]
     },
     "execution_count": 11,
     "metadata": {},
     "output_type": "execute_result"
    }
   ],
   "source": [
    "configuration"
   ]
  },
  {
   "cell_type": "code",
   "execution_count": 12,
   "metadata": {},
   "outputs": [],
   "source": [
    "from ogb.linkproppred import LinkPropPredDataset"
   ]
  },
  {
   "cell_type": "code",
   "execution_count": 13,
   "metadata": {},
   "outputs": [
    {
     "name": "stderr",
     "output_type": "stream",
     "text": [
      "WARNING:root:The OGB package is out of date. Your version is 1.2.3, while the latest version is 1.3.1.\n",
      "Downloading https://snap.stanford.edu/ogb/data/linkproppred/collab.zip\n",
      "Downloaded 0.11 GB: 100%|██████████| 117/117 [00:58<00:00,  1.99it/s]\n",
      "Extracting dataset/collab.zip\n",
      "Loading necessary files...\n",
      "This might take a while.\n",
      "100%|██████████| 1/1 [00:00<00:00, 11.80it/s]Processing graphs...\n",
      "Saving...\n",
      "\n"
     ]
    }
   ],
   "source": [
    "lp_dataset = LinkPropPredDataset(configuration['dataset_name'])\n",
    "\n",
    "split_edge = lp_dataset.get_edge_split()\n",
    "\n",
    "train_edge, valid_edge, test_edge = split_edge[\"train\"], split_edge[\"valid\"], split_edge[\"test\"]"
   ]
  },
  {
   "cell_type": "code",
   "execution_count": 14,
   "metadata": {},
   "outputs": [],
   "source": [
    "from lynks.helpers import create_pipeline\n",
    "\n",
    "from lynks.data import build_graph\n",
    "from lynks.sampling import create_sampler"
   ]
  },
  {
   "cell_type": "code",
   "execution_count": 16,
   "metadata": {},
   "outputs": [],
   "source": [
    "train_samples = list(map(tuple, train_edge[\"edge\"]))\n",
    "train_data = (train_edge, train_samples)"
   ]
  },
  {
   "cell_type": "code",
   "execution_count": 18,
   "metadata": {},
   "outputs": [],
   "source": [
    "train_samples = list(map(tuple, train_edge[\"edge\"]))\n",
    "train_weights = train_edge[\"weight\"]\n",
    "train_years = train_edge[\"year\"]\n"
   ]
  },
  {
   "cell_type": "code",
   "execution_count": 29,
   "metadata": {},
   "outputs": [],
   "source": [
    "from lynks.features import create_graph_topology_featuriser\n",
    "from lynks.features import create_feature_transform\n",
    "from lynks.features import create_feature_formatter"
   ]
  },
  {
   "cell_type": "code",
   "execution_count": 23,
   "metadata": {},
   "outputs": [],
   "source": [
    "feature_config = configuration[\"features\"]\n",
    "\n",
    "topo_feature_pipeline = create_graph_topology_featuriser(\n",
    "    graph_backbone=build_graph(train_samples, train_weights, train_years),\n",
    "    common_neighbors_count=feature_config[\"common_neighbors_count\"],\n",
    "    common_neighbor_centrality=feature_config[\"common_neighbor_centrality\"],\n",
    "    jaccard_coefficient=feature_config[\"jaccard_coefficient\"],\n",
    "    adamic_adar_index=feature_config[\"adamic_adar_index\"],\n",
    "    preferential_attachment=feature_config[\"preferential_attachment\"],\n",
    "    resource_allocation_index=feature_config[\"resource_allocation_index\"],\n",
    "    verbose=1\n",
    ")"
   ]
  },
  {
   "cell_type": "code",
   "execution_count": 24,
   "metadata": {},
   "outputs": [
    {
     "name": "stderr",
     "output_type": "stream",
     "text": [
      "2021-05-02 17:20:34,462 lynks.features INFO     Computing jaccard_coefficient...\n",
      "2021-05-02 17:22:30,193 lynks.features INFO     Computing adamic_adar_index...\n",
      "2021-05-02 17:24:57,722 lynks.features INFO     Computing preferential_attachment...\n",
      "2021-05-02 17:25:04,110 lynks.features INFO     Computing resource_allocation_index...\n"
     ]
    }
   ],
   "source": [
    "_, features, feat_labels = topo_feature_pipeline(train_samples)"
   ]
  },
  {
   "cell_type": "code",
   "execution_count": 26,
   "metadata": {},
   "outputs": [
    {
     "data": {
      "text/plain": [
       "[array([0.07042254, 0.07042254, 0.07272727, ..., 0.71428571, 0.71428571,\n",
       "        0.        ]),\n",
       " array([2.51592912, 2.51592912, 1.18425534, ..., 2.40538366, 2.40538366,\n",
       "        0.        ]),\n",
       " array([1428, 1428,  858, ...,   36,   36,   65]),\n",
       " array([0.68373016, 0.68373016, 0.15198788, ..., 0.62698413, 0.62698413,\n",
       "        0.        ])]"
      ]
     },
     "execution_count": 26,
     "metadata": {},
     "output_type": "execute_result"
    }
   ],
   "source": [
    "features"
   ]
  },
  {
   "cell_type": "code",
   "execution_count": 30,
   "metadata": {},
   "outputs": [],
   "source": [
    "feat_formatter = create_feature_formatter()"
   ]
  },
  {
   "cell_type": "code",
   "execution_count": 32,
   "metadata": {},
   "outputs": [],
   "source": [
    "feats_np, feat_labels_np = feat_formatter(features, feat_labels)\n"
   ]
  },
  {
   "cell_type": "code",
   "execution_count": 34,
   "metadata": {},
   "outputs": [
    {
     "data": {
      "text/plain": [
       "(1179052, 4)"
      ]
     },
     "execution_count": 34,
     "metadata": {},
     "output_type": "execute_result"
    }
   ],
   "source": [
    "feats_np.shape"
   ]
  },
  {
   "cell_type": "code",
   "execution_count": 35,
   "metadata": {},
   "outputs": [],
   "source": [
    "from lynks.model import create_train_RandomForestClassifier"
   ]
  },
  {
   "cell_type": "code",
   "execution_count": null,
   "metadata": {},
   "outputs": [],
   "source": [
    "\n",
    "train_model_pipeline = create_pipeline([\n",
    "    create_train_RandomForestClassifier(101)\n",
    "])"
   ]
  },
  {
   "cell_type": "code",
   "execution_count": null,
   "metadata": {},
   "outputs": [],
   "source": [
    "rf = train_model_pipeline()"
   ]
  },
  {
   "cell_type": "code",
   "execution_count": null,
   "metadata": {},
   "outputs": [],
   "source": [
    "rf"
   ]
  },
  {
   "cell_type": "markdown",
   "metadata": {},
   "source": [
    "Validation data"
   ]
  },
  {
   "cell_type": "code",
   "execution_count": 36,
   "metadata": {},
   "outputs": [],
   "source": [
    "validation_samples = list(map(tuple, valid_edge[\"edge\"][:200,:]))"
   ]
  },
  {
   "cell_type": "code",
   "execution_count": 37,
   "metadata": {},
   "outputs": [],
   "source": [
    "_, valid_feat, valid_feat_labels = topo_feature_pipeline(validation_samples)"
   ]
  },
  {
   "cell_type": "markdown",
   "metadata": {},
   "source": [
    "Featurise"
   ]
  },
  {
   "cell_type": "code",
   "execution_count": 41,
   "metadata": {},
   "outputs": [],
   "source": [
    "# valid_feat_labels"
   ]
  },
  {
   "cell_type": "code",
   "execution_count": null,
   "metadata": {},
   "outputs": [],
   "source": [
    "validation_ds_feat = feature_pipeline(validation_ds)"
   ]
  },
  {
   "cell_type": "code",
   "execution_count": null,
   "metadata": {},
   "outputs": [],
   "source": [
    "# infer_pipeline = create_pipeline([\n",
    "#     rf\n",
    "# ])"
   ]
  },
  {
   "cell_type": "code",
   "execution_count": null,
   "metadata": {},
   "outputs": [],
   "source": [
    "validation_ds.feature_names"
   ]
  },
  {
   "cell_type": "code",
   "execution_count": null,
   "metadata": {},
   "outputs": [],
   "source": [
    "predictions = rf(validation_ds.features[:, [0,2,3]])"
   ]
  },
  {
   "cell_type": "code",
   "execution_count": null,
   "metadata": {},
   "outputs": [],
   "source": [
    "from sklearn.metrics import confusion_matrix\n",
    "from sklearn.metrics import classification_report\n",
    "\n",
    "from sklearn.metrics import roc_auc_score"
   ]
  },
  {
   "cell_type": "code",
   "execution_count": null,
   "metadata": {},
   "outputs": [],
   "source": [
    "predictions"
   ]
  },
  {
   "cell_type": "code",
   "execution_count": null,
   "metadata": {},
   "outputs": [],
   "source": [
    "confusion_matrix(validation_ds.labels, predictions)"
   ]
  },
  {
   "cell_type": "code",
   "execution_count": null,
   "metadata": {},
   "outputs": [],
   "source": [
    "print(classification_report(validation_ds.labels, predictions))"
   ]
  },
  {
   "cell_type": "markdown",
   "metadata": {},
   "source": [
    "## Multiprocessing"
   ]
  },
  {
   "cell_type": "code",
   "execution_count": null,
   "metadata": {},
   "outputs": [],
   "source": [
    "# %%time\n",
    "# data_processed = data_preprocessing_pipeline(train_edge)"
   ]
  },
  {
   "cell_type": "code",
   "execution_count": null,
   "metadata": {},
   "outputs": [],
   "source": [
    "# from lynks.data import split_dataset\n",
    "# from lynks.data import merge_datasets"
   ]
  },
  {
   "cell_type": "code",
   "execution_count": null,
   "metadata": {},
   "outputs": [],
   "source": [
    "# parallel_datasets = split_dataset(data_processed, n_slices=8)"
   ]
  },
  {
   "cell_type": "code",
   "execution_count": null,
   "metadata": {},
   "outputs": [],
   "source": [
    "# from multiprocessing.pool import ThreadPool as Pool"
   ]
  },
  {
   "cell_type": "code",
   "execution_count": null,
   "metadata": {},
   "outputs": [],
   "source": [
    "# %%time\n",
    "# with Pool(8) as p:\n",
    "#     featurized_datasets = p.map(feature_pipeline, parallel_datasets)\n",
    "    \n",
    "# dataset_featurised = merge_datasets(featurized_datasets)"
   ]
  },
  {
   "cell_type": "code",
   "execution_count": 2,
   "metadata": {},
   "outputs": [],
   "source": [
    "import numpy as np"
   ]
  },
  {
   "cell_type": "code",
   "execution_count": 3,
   "metadata": {},
   "outputs": [],
   "source": [
    "a = np.array([[0,1,3]]).T"
   ]
  },
  {
   "cell_type": "code",
   "execution_count": 7,
   "metadata": {},
   "outputs": [
    {
     "data": {
      "text/plain": [
       "(3, 1)"
      ]
     },
     "execution_count": 7,
     "metadata": {},
     "output_type": "execute_result"
    }
   ],
   "source": [
    "a.shape"
   ]
  },
  {
   "cell_type": "code",
   "execution_count": 5,
   "metadata": {},
   "outputs": [],
   "source": [
    "b = 2*a"
   ]
  },
  {
   "cell_type": "code",
   "execution_count": 6,
   "metadata": {},
   "outputs": [
    {
     "data": {
      "text/plain": [
       "(3, 2)"
      ]
     },
     "execution_count": 6,
     "metadata": {},
     "output_type": "execute_result"
    }
   ],
   "source": [
    "np.concatenate([a, b], axis=1).shape"
   ]
  },
  {
   "cell_type": "code",
   "execution_count": null,
   "metadata": {},
   "outputs": [],
   "source": []
  }
 ],
 "metadata": {
  "kernelspec": {
   "display_name": "Python 3",
   "language": "python",
   "name": "python3"
  },
  "language_info": {
   "codemirror_mode": {
    "name": "ipython",
    "version": 3
   },
   "file_extension": ".py",
   "mimetype": "text/x-python",
   "name": "python",
   "nbconvert_exporter": "python",
   "pygments_lexer": "ipython3",
   "version": "3.7.8"
  }
 },
 "nbformat": 4,
 "nbformat_minor": 4
}
