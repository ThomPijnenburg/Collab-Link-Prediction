{
 "cells": [
  {
   "cell_type": "markdown",
   "metadata": {},
   "source": [
    "# Feature generation"
   ]
  },
  {
   "cell_type": "code",
   "execution_count": 1,
   "metadata": {},
   "outputs": [],
   "source": [
    "%load_ext autoreload\n",
    "%autoreload 2"
   ]
  },
  {
   "cell_type": "code",
   "execution_count": 2,
   "metadata": {},
   "outputs": [],
   "source": [
    "from pathlib import Path\n",
    "import numpy as np\n",
    "import pandas as pd"
   ]
  },
  {
   "cell_type": "markdown",
   "metadata": {},
   "source": [
    "Load parameter settings"
   ]
  },
  {
   "cell_type": "code",
   "execution_count": 3,
   "metadata": {},
   "outputs": [],
   "source": [
    "from lynks.helpers import load_config"
   ]
  },
  {
   "cell_type": "code",
   "execution_count": 4,
   "metadata": {},
   "outputs": [],
   "source": [
    "experiment_config_dir = Path(\"../configs\")\n",
    "\n",
    "feat_gen_config_path = experiment_config_dir.joinpath(\"experiments.toml\")"
   ]
  },
  {
   "cell_type": "code",
   "execution_count": 5,
   "metadata": {},
   "outputs": [],
   "source": [
    "configuration = load_config(feat_gen_config_path)"
   ]
  },
  {
   "cell_type": "code",
   "execution_count": 6,
   "metadata": {},
   "outputs": [
    {
     "data": {
      "text/plain": [
       "{'dataset_name': 'ogbl-collab',\n",
       " 'preprocessing': {'n_samples': 2020, 'balancing': True},\n",
       " 'features': {'common_neighbors_count': False,\n",
       "  'common_neighbor_centrality': False,\n",
       "  'jaccard_coefficient': True,\n",
       "  'adamic_adar_index': True,\n",
       "  'preferential_attachment': True,\n",
       "  'resource_allocation_index': True,\n",
       "  'scaling': 'normalise'}}"
      ]
     },
     "execution_count": 6,
     "metadata": {},
     "output_type": "execute_result"
    }
   ],
   "source": [
    "configuration"
   ]
  },
  {
   "cell_type": "code",
   "execution_count": 7,
   "metadata": {},
   "outputs": [],
   "source": [
    "from lynks.pipeline import create_pipeline\n",
    "\n",
    "from lynks.data import Dataset\n",
    "from lynks.data import create_formatter\n",
    "from lynks.data import create_graph_builder"
   ]
  },
  {
   "cell_type": "code",
   "execution_count": 8,
   "metadata": {},
   "outputs": [],
   "source": [
    "from ogb.linkproppred import LinkPropPredDataset"
   ]
  },
  {
   "cell_type": "code",
   "execution_count": 9,
   "metadata": {},
   "outputs": [],
   "source": [
    "lp_dataset = LinkPropPredDataset(configuration['dataset_name'])\n",
    "\n",
    "split_edge = lp_dataset.get_edge_split()\n",
    "\n",
    "train_edge, valid_edge, test_edge = split_edge[\"train\"], split_edge[\"valid\"], split_edge[\"test\"]"
   ]
  },
  {
   "cell_type": "code",
   "execution_count": 10,
   "metadata": {},
   "outputs": [
    {
     "name": "stdout",
     "output_type": "stream",
     "text": [
      "I am custom you know\n"
     ]
    }
   ],
   "source": [
    "train_ds = Dataset(lpdata=train_edge)"
   ]
  },
  {
   "cell_type": "code",
   "execution_count": 11,
   "metadata": {},
   "outputs": [
    {
     "data": {
      "text/plain": [
       "(1179052, 2)"
      ]
     },
     "execution_count": 11,
     "metadata": {},
     "output_type": "execute_result"
    }
   ],
   "source": [
    "train_ds.edges.shape"
   ]
  },
  {
   "cell_type": "code",
   "execution_count": 12,
   "metadata": {},
   "outputs": [
    {
     "data": {
      "text/plain": [
       "array([[150989, 224881],\n",
       "       [150989, 224881],\n",
       "       [180078, 199043],\n",
       "       [ 49077, 199043],\n",
       "       [ 49077, 199043],\n",
       "       [ 49077, 199043],\n",
       "       [ 72822, 199043],\n",
       "       [ 22617, 162495],\n",
       "       [ 34959, 115736],\n",
       "       [168022, 128982]])"
      ]
     },
     "execution_count": 12,
     "metadata": {},
     "output_type": "execute_result"
    }
   ],
   "source": [
    "train_ds.edges[:10, :]"
   ]
  },
  {
   "cell_type": "code",
   "execution_count": 13,
   "metadata": {},
   "outputs": [
    {
     "data": {
      "text/html": [
       "<div>\n",
       "<style scoped>\n",
       "    .dataframe tbody tr th:only-of-type {\n",
       "        vertical-align: middle;\n",
       "    }\n",
       "\n",
       "    .dataframe tbody tr th {\n",
       "        vertical-align: top;\n",
       "    }\n",
       "\n",
       "    .dataframe thead th {\n",
       "        text-align: right;\n",
       "    }\n",
       "</style>\n",
       "<table border=\"1\" class=\"dataframe\">\n",
       "  <thead>\n",
       "    <tr style=\"text-align: right;\">\n",
       "      <th></th>\n",
       "      <th>0</th>\n",
       "      <th>1</th>\n",
       "    </tr>\n",
       "  </thead>\n",
       "  <tbody>\n",
       "    <tr>\n",
       "      <th>0</th>\n",
       "      <td>150989</td>\n",
       "      <td>224881</td>\n",
       "    </tr>\n",
       "    <tr>\n",
       "      <th>1</th>\n",
       "      <td>150989</td>\n",
       "      <td>224881</td>\n",
       "    </tr>\n",
       "    <tr>\n",
       "      <th>2</th>\n",
       "      <td>180078</td>\n",
       "      <td>199043</td>\n",
       "    </tr>\n",
       "    <tr>\n",
       "      <th>3</th>\n",
       "      <td>49077</td>\n",
       "      <td>199043</td>\n",
       "    </tr>\n",
       "    <tr>\n",
       "      <th>4</th>\n",
       "      <td>49077</td>\n",
       "      <td>199043</td>\n",
       "    </tr>\n",
       "    <tr>\n",
       "      <th>...</th>\n",
       "      <td>...</td>\n",
       "      <td>...</td>\n",
       "    </tr>\n",
       "    <tr>\n",
       "      <th>1179047</th>\n",
       "      <td>32447</td>\n",
       "      <td>221741</td>\n",
       "    </tr>\n",
       "    <tr>\n",
       "      <th>1179048</th>\n",
       "      <td>103044</td>\n",
       "      <td>221741</td>\n",
       "    </tr>\n",
       "    <tr>\n",
       "      <th>1179049</th>\n",
       "      <td>60425</td>\n",
       "      <td>221741</td>\n",
       "    </tr>\n",
       "    <tr>\n",
       "      <th>1179050</th>\n",
       "      <td>135758</td>\n",
       "      <td>221741</td>\n",
       "    </tr>\n",
       "    <tr>\n",
       "      <th>1179051</th>\n",
       "      <td>140614</td>\n",
       "      <td>207232</td>\n",
       "    </tr>\n",
       "  </tbody>\n",
       "</table>\n",
       "<p>1179052 rows × 2 columns</p>\n",
       "</div>"
      ],
      "text/plain": [
       "              0       1\n",
       "0        150989  224881\n",
       "1        150989  224881\n",
       "2        180078  199043\n",
       "3         49077  199043\n",
       "4         49077  199043\n",
       "...         ...     ...\n",
       "1179047   32447  221741\n",
       "1179048  103044  221741\n",
       "1179049   60425  221741\n",
       "1179050  135758  221741\n",
       "1179051  140614  207232\n",
       "\n",
       "[1179052 rows x 2 columns]"
      ]
     },
     "execution_count": 13,
     "metadata": {},
     "output_type": "execute_result"
    }
   ],
   "source": [
    "pd.DataFrame(train_ds.edges)"
   ]
  },
  {
   "cell_type": "code",
   "execution_count": 14,
   "metadata": {},
   "outputs": [
    {
     "data": {
      "text/plain": [
       "array([1., 1., 1., ..., 1., 1., 1.])"
      ]
     },
     "execution_count": 14,
     "metadata": {},
     "output_type": "execute_result"
    }
   ],
   "source": [
    "np.ones(train_ds.edges.shape[0])"
   ]
  },
  {
   "cell_type": "code",
   "execution_count": 15,
   "metadata": {},
   "outputs": [],
   "source": [
    "preprocessing_config = configuration[\"preprocessing\"]\n",
    "\n",
    "data_preprocessing_pipeline = create_pipeline([\n",
    "    create_formatter(),\n",
    "    create_graph_builder()\n",
    "])\n"
   ]
  },
  {
   "cell_type": "code",
   "execution_count": 16,
   "metadata": {},
   "outputs": [
    {
     "name": "stdout",
     "output_type": "stream",
     "text": [
      "I am custom you know\n"
     ]
    }
   ],
   "source": [
    "data_processed = data_preprocessing_pipeline(train_edge)\n",
    "\n"
   ]
  },
  {
   "cell_type": "code",
   "execution_count": 17,
   "metadata": {},
   "outputs": [],
   "source": [
    "# data_processed.graph.edges"
   ]
  },
  {
   "cell_type": "code",
   "execution_count": 18,
   "metadata": {},
   "outputs": [
    {
     "data": {
      "text/plain": [
       "<lynks.data.Dataset at 0x7fa5711ca3a0>"
      ]
     },
     "execution_count": 18,
     "metadata": {},
     "output_type": "execute_result"
    }
   ],
   "source": [
    "data_processed"
   ]
  },
  {
   "cell_type": "code",
   "execution_count": 26,
   "metadata": {},
   "outputs": [
    {
     "data": {
      "text/plain": [
       "[(29838, 259),\n",
       " (29838, 46339),\n",
       " (29838, 93626),\n",
       " (29838, 115725),\n",
       " (29838, 141569),\n",
       " (29838, 165828),\n",
       " (29838, 177433),\n",
       " (150989, 13788),\n",
       " (150989, 29838),\n",
       " (150989, 35939),\n",
       " (150989, 39863),\n",
       " (150989, 46339),\n",
       " (150989, 52716),\n",
       " (150989, 60916),\n",
       " (150989, 68107),\n",
       " (150989, 69980),\n",
       " (150989, 73691),\n",
       " (150989, 74460),\n",
       " (150989, 87235),\n",
       " (150989, 87299),\n",
       " (150989, 98399),\n",
       " (150989, 101448),\n",
       " (150989, 133659),\n",
       " (150989, 158417),\n",
       " (150989, 161820),\n",
       " (150989, 163097),\n",
       " (150989, 165828),\n",
       " (150989, 168681),\n",
       " (150989, 170670),\n",
       " (150989, 191805),\n",
       " (150989, 193953),\n",
       " (150989, 194742),\n",
       " (150989, 202539),\n",
       " (150989, 206640),\n",
       " (150989, 209832),\n",
       " (150989, 211184),\n",
       " (150989, 213318),\n",
       " (150989, 218928),\n",
       " (150989, 222757),\n",
       " (150989, 224881),\n",
       " (150989, 230381),\n",
       " (191805, 13788),\n",
       " (191805, 52716),\n",
       " (191805, 66449),\n",
       " (191805, 73691),\n",
       " (191805, 75337),\n",
       " (191805, 77018),\n",
       " (191805, 98399),\n",
       " (191805, 101448),\n",
       " (191805, 119799),\n",
       " (191805, 130827),\n",
       " (191805, 157836),\n",
       " (191805, 168681),\n",
       " (191805, 194742),\n",
       " (191805, 203460),\n",
       " (191805, 215244),\n",
       " (191805, 222757),\n",
       " (191805, 224607),\n",
       " (191805, 230381),\n",
       " (224881, 2523),\n",
       " (224881, 29838),\n",
       " (224881, 34217),\n",
       " (224881, 35939),\n",
       " (224881, 38283),\n",
       " (224881, 46339),\n",
       " (224881, 49518),\n",
       " (224881, 53482),\n",
       " (224881, 54694),\n",
       " (224881, 61425),\n",
       " (224881, 63886),\n",
       " (224881, 68026),\n",
       " (224881, 68841),\n",
       " (224881, 70430),\n",
       " (224881, 77893),\n",
       " (224881, 84179),\n",
       " (224881, 86493),\n",
       " (224881, 86523),\n",
       " (224881, 87933),\n",
       " (224881, 91420),\n",
       " (224881, 102685),\n",
       " (224881, 109184),\n",
       " (224881, 113076),\n",
       " (224881, 115725),\n",
       " (224881, 116340),\n",
       " (224881, 130724),\n",
       " (224881, 133284),\n",
       " (224881, 139395),\n",
       " (224881, 146049),\n",
       " (224881, 147667),\n",
       " (224881, 165828),\n",
       " (224881, 176881),\n",
       " (224881, 179065),\n",
       " (224881, 183853),\n",
       " (224881, 186938),\n",
       " (224881, 201168),\n",
       " (224881, 203590),\n",
       " (224881, 204868),\n",
       " (224881, 210004),\n",
       " (224881, 218928),\n",
       " (224881, 227657)]"
      ]
     },
     "execution_count": 26,
     "metadata": {},
     "output_type": "execute_result"
    }
   ],
   "source": [
    "sorted(data_processed.edges[:100])"
   ]
  },
  {
   "cell_type": "code",
   "execution_count": 20,
   "metadata": {},
   "outputs": [],
   "source": [
    "# data_processed"
   ]
  },
  {
   "cell_type": "code",
   "execution_count": 21,
   "metadata": {},
   "outputs": [],
   "source": [
    "from lynks.features import create_balancer\n",
    "from lynks.features import create_featuriser\n",
    "from lynks.features import create_feature_transform"
   ]
  },
  {
   "cell_type": "code",
   "execution_count": 22,
   "metadata": {},
   "outputs": [],
   "source": [
    "feature_config = configuration[\"features\"]\n",
    "\n",
    "raw_feature_pipeline = create_featuriser(\n",
    "    common_neighbors_count=feature_config[\"common_neighbors_count\"],\n",
    "    common_neighbor_centrality=feature_config[\"common_neighbor_centrality\"],\n",
    "    jaccard_coefficient=feature_config[\"jaccard_coefficient\"],\n",
    "    adamic_adar_index=feature_config[\"adamic_adar_index\"],\n",
    "    preferential_attachment=feature_config[\"preferential_attachment\"],\n",
    "    resource_allocation_index=feature_config[\"resource_allocation_index\"],\n",
    "    verbose=1\n",
    ")"
   ]
  },
  {
   "cell_type": "code",
   "execution_count": 23,
   "metadata": {},
   "outputs": [],
   "source": [
    "feature_pipeline = create_pipeline([\n",
    "    create_balancer(n_samples=preprocessing_config['n_samples']),\n",
    "    raw_feature_pipeline,\n",
    "    create_feature_transform(scaling=feature_config[\"scaling\"])\n",
    "])"
   ]
  },
  {
   "cell_type": "code",
   "execution_count": 24,
   "metadata": {},
   "outputs": [
    {
     "name": "stdout",
     "output_type": "stream",
     "text": [
      "2020\n",
      "Computing jaccard_coefficient...\n",
      "Computing adamic_adar_index...\n",
      "Computing preferential_attachment...\n",
      "Computing resource_allocation_index...\n",
      "Length feat list = 4 by 2020\n",
      "Shape feat array (2020, 4)\n"
     ]
    }
   ],
   "source": [
    "# %%time\n",
    "data_feats = feature_pipeline(data_processed)"
   ]
  },
  {
   "cell_type": "code",
   "execution_count": 25,
   "metadata": {},
   "outputs": [
    {
     "data": {
      "text/plain": [
       "array([[-0.34312602, -0.06556203, -0.18228228,  0.55476807],\n",
       "       [-0.31967476, -0.67751473, -0.37607986, -0.72819797],\n",
       "       [ 1.2792588 ,  1.58573807, -0.12355575,  0.55683449],\n",
       "       ...,\n",
       "       [-0.62966536, -0.97034154, -0.37279808, -1.08446877],\n",
       "       [-0.47789117, -0.583342  , -0.36157095, -0.47579235],\n",
       "       [-0.43777445, -0.53343418, -0.24929963, -0.57775323]])"
      ]
     },
     "execution_count": 25,
     "metadata": {},
     "output_type": "execute_result"
    }
   ],
   "source": [
    "data_feats.features"
   ]
  },
  {
   "cell_type": "code",
   "execution_count": null,
   "metadata": {},
   "outputs": [],
   "source": []
  },
  {
   "cell_type": "code",
   "execution_count": null,
   "metadata": {},
   "outputs": [],
   "source": []
  },
  {
   "cell_type": "markdown",
   "metadata": {},
   "source": [
    "## multiprocessing"
   ]
  },
  {
   "cell_type": "code",
   "execution_count": 25,
   "metadata": {},
   "outputs": [
    {
     "name": "stdout",
     "output_type": "stream",
     "text": [
      "I am custom you know\n",
      "CPU times: user 16 s, sys: 264 ms, total: 16.2 s\n",
      "Wall time: 16.2 s\n"
     ]
    }
   ],
   "source": [
    "%%time\n",
    "data_processed = data_preprocessing_pipeline(train_edge)"
   ]
  },
  {
   "cell_type": "code",
   "execution_count": 26,
   "metadata": {},
   "outputs": [],
   "source": [
    "from lynks.data import split_dataset\n",
    "from lynks.data import merge_datasets"
   ]
  },
  {
   "cell_type": "code",
   "execution_count": 27,
   "metadata": {},
   "outputs": [],
   "source": [
    "parallel_datasets = split_dataset(data_processed, n_slices=8)"
   ]
  },
  {
   "cell_type": "code",
   "execution_count": 28,
   "metadata": {},
   "outputs": [],
   "source": [
    "from multiprocessing.pool import ThreadPool as Pool"
   ]
  },
  {
   "cell_type": "code",
   "execution_count": 29,
   "metadata": {},
   "outputs": [
    {
     "name": "stdout",
     "output_type": "stream",
     "text": [
      "Computing jaccard_coefficient...\n",
      "Computing jaccard_coefficient...Computing jaccard_coefficient...\n",
      "Computing jaccard_coefficient...\n",
      "Computing jaccard_coefficient...Computing jaccard_coefficient...\n",
      "\n",
      "Computing jaccard_coefficient...\n",
      "\n",
      "Computing jaccard_coefficient...\n",
      "Computing adamic_adar_index...\n",
      "Computing adamic_adar_index...\n",
      "Computing adamic_adar_index...Computing adamic_adar_index...\n",
      "\n",
      "Computing adamic_adar_index...\n",
      "Computing adamic_adar_index...\n",
      "Computing adamic_adar_index...\n",
      "Computing adamic_adar_index...\n",
      "Computing preferential_attachment...\n",
      "Computing preferential_attachment...\n",
      "Computing preferential_attachment...\n",
      "Computing preferential_attachment...\n",
      "Computing preferential_attachment...\n",
      "Computing preferential_attachment...\n",
      "Computing resource_allocation_index...\n",
      "Computing resource_allocation_index...\n",
      "Computing resource_allocation_index...\n",
      "Computing resource_allocation_index...Computing preferential_attachment...\n",
      "\n",
      "Computing resource_allocation_index...Computing resource_allocation_index...\n",
      "\n",
      "Computing preferential_attachment...\n",
      "Computing resource_allocation_index...\n",
      "Computing resource_allocation_index...\n",
      "Length feat list = 4 by 147381\n",
      "Shape feat array (147381, 4)\n",
      "Length feat list = 4 by 147381\n",
      "Shape feat array (147381, 4)\n",
      "Length feat list = 4 by 147381\n",
      "Shape feat array (147381, 4)\n",
      "Length feat list = 4 by 147382\n",
      "Shape feat array (147382, 4)\n",
      "Length feat list = 4 by 147382\n",
      "Shape feat array (147382, 4)\n",
      "Length feat list = 4 by 147382\n",
      "Shape feat array (147382, 4)\n",
      "Length feat list = 4 by 147382\n",
      "Shape feat array (147382, 4)\n",
      "Length feat list = 4 by 147381\n",
      "Shape feat array (147381, 4)\n",
      "CPU times: user 4min 33s, sys: 5.82 s, total: 4min 39s\n",
      "Wall time: 4min 34s\n"
     ]
    }
   ],
   "source": [
    "%%time\n",
    "with Pool(8) as p:\n",
    "    featurized_datasets = p.map(feature_pipeline, parallel_datasets)\n",
    "    \n",
    "dataset_featurised = merge_datasets(featurized_datasets)"
   ]
  },
  {
   "cell_type": "code",
   "execution_count": 30,
   "metadata": {},
   "outputs": [
    {
     "data": {
      "text/plain": [
       "array([[-0.80866112, -0.23605544, -0.04802622,  0.19968591],\n",
       "       [-0.80866112, -0.23605544, -0.04802622,  0.19968591],\n",
       "       [-0.80007935, -0.53540083, -0.15406694, -0.81960741],\n",
       "       ...,\n",
       "       [ 1.59355561, -0.25307453, -0.31955875,  0.0995563 ],\n",
       "       [ 1.59355561, -0.25307453, -0.31955875,  0.0995563 ],\n",
       "       [-1.07825398, -0.8134851 , -0.31328275, -1.01527351]])"
      ]
     },
     "execution_count": 30,
     "metadata": {},
     "output_type": "execute_result"
    }
   ],
   "source": [
    "dataset_featurised.features"
   ]
  },
  {
   "cell_type": "code",
   "execution_count": 31,
   "metadata": {},
   "outputs": [
    {
     "data": {
      "text/plain": [
       "array([[ 0.45537745,  0.42042216, -0.15577179,  0.22701484],\n",
       "       [ 0.45537745,  0.42042216, -0.15577179,  0.22701484],\n",
       "       [-0.88559978, -0.3508786 , -0.25022176, -0.06474345],\n",
       "       ...,\n",
       "       [ 2.22584581,  0.36904341, -0.26569356,  0.53544834],\n",
       "       [ 2.22584581,  0.36904341, -0.26569356,  0.53544834],\n",
       "       [ 2.22584581,  0.36904341, -0.26569356,  0.53544834]])"
      ]
     },
     "execution_count": 31,
     "metadata": {},
     "output_type": "execute_result"
    }
   ],
   "source": [
    "featurized_datasets[1].features"
   ]
  },
  {
   "cell_type": "code",
   "execution_count": 32,
   "metadata": {},
   "outputs": [
    {
     "data": {
      "text/plain": [
       "array([[-0.81693895, -0.2333251 , -0.03434316,  0.21727714],\n",
       "       [-0.81693895, -0.2333251 , -0.03434316,  0.21727714],\n",
       "       [-0.80835928, -0.53795413, -0.14875444, -0.81060635],\n",
       "       ...,\n",
       "       [ 1.57992053, -0.2586131 , -0.31374755,  0.10758432],\n",
       "       [ 1.57992053, -0.2586131 , -0.31374755,  0.10758432],\n",
       "       [-1.07909545, -0.80886023, -0.30792663, -1.10440626]])"
      ]
     },
     "execution_count": 32,
     "metadata": {},
     "output_type": "execute_result"
    }
   ],
   "source": [
    "data_feats.features"
   ]
  },
  {
   "cell_type": "code",
   "execution_count": 34,
   "metadata": {},
   "outputs": [],
   "source": [
    "# len(merged_dataset.edges)"
   ]
  },
  {
   "cell_type": "code",
   "execution_count": null,
   "metadata": {},
   "outputs": [],
   "source": []
  },
  {
   "cell_type": "code",
   "execution_count": null,
   "metadata": {},
   "outputs": [],
   "source": []
  },
  {
   "cell_type": "code",
   "execution_count": null,
   "metadata": {},
   "outputs": [],
   "source": []
  }
 ],
 "metadata": {
  "kernelspec": {
   "display_name": "Python 3",
   "language": "python",
   "name": "python3"
  },
  "language_info": {
   "codemirror_mode": {
    "name": "ipython",
    "version": 3
   },
   "file_extension": ".py",
   "mimetype": "text/x-python",
   "name": "python",
   "nbconvert_exporter": "python",
   "pygments_lexer": "ipython3",
   "version": "3.8.3"
  }
 },
 "nbformat": 4,
 "nbformat_minor": 4
}
